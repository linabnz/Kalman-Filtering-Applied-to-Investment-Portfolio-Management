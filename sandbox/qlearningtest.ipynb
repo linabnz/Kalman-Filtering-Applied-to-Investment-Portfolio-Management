{
 "cells": [
  {
   "cell_type": "code",
   "execution_count": 2,
   "id": "bd309230",
   "metadata": {},
   "outputs": [],
   "source": [
    "import pandas as pd\n",
    "import numpy as np\n",
    "import torch\n",
    "\n",
    "from strategies.trading_env import TradingEnvironment\n",
    "import json\n",
    "import os\n"
   ]
  },
  {
   "cell_type": "code",
   "execution_count": 1,
   "id": "6f9b3f02",
   "metadata": {},
   "outputs": [],
   "source": [
    "import sys\n",
    "import os\n",
    "sys.path.append(os.path.abspath(\"..\"))\n"
   ]
  },
  {
   "cell_type": "code",
   "execution_count": 3,
   "id": "43ca1e69",
   "metadata": {},
   "outputs": [],
   "source": [
    "from models.agent import DQNAgent\n"
   ]
  },
  {
   "cell_type": "code",
   "execution_count": 4,
   "id": "9407bf03",
   "metadata": {},
   "outputs": [],
   "source": [
    "ACTIONS = {0: \"Hold\", 1: \"Enter\", 2: \"Exit\"}\n",
    "ACTION_SPACE = list(ACTIONS.keys())\n",
    "\n",
    "full_data = pd.read_csv(r\"C:\\Users\\lbenzemma\\Desktop\\Projets Master2 MOSEF\\Kalman-Filtering-Applied-to-Investment-Portfolio-Management-1\\data\\cointegrated_pairs_spreads.csv\")\n",
    "\n",
    "\n",
    "full_data['spread'] = full_data.groupby(['Asset1', 'Asset2'])['Spread'].transform(lambda x: (x - x.mean()) / x.std())\n",
    "\n",
    "rewards_by_pair = {}\n",
    "output_dir = \"saved_models\"\n",
    "os.makedirs(output_dir, exist_ok=True)\n"
   ]
  },
  {
   "cell_type": "code",
   "execution_count": 5,
   "id": "1dd92d73",
   "metadata": {},
   "outputs": [],
   "source": [
    "def train_on_pair(df_pair, pair_id, num_episodes=100):\n",
    "    env = TradingEnvironment(df_pair)\n",
    "    agent = DQNAgent(input_dim=3, output_dim=3)\n",
    "\n",
    "    rewards_all = []\n",
    "    best_reward = -np.inf\n",
    "    for episode in range(num_episodes):\n",
    "        state = env.reset()\n",
    "        total_reward = 0\n",
    "        done = False\n",
    "        epsilon = max(0.1, 1.0 - episode / 50)\n",
    "\n",
    "        while not done:\n",
    "            action = agent.get_action(state, epsilon)\n",
    "            next_state, reward, done = env.step(action)\n",
    "            agent.train_step(state, action, reward, next_state, done)\n",
    "            state = next_state\n",
    "            total_reward += reward\n",
    "\n",
    "        rewards_all.append(total_reward)\n",
    "        if total_reward > best_reward:\n",
    "            best_reward = total_reward\n",
    "            agent.save(f\"{output_dir}/{pair_id}.pt\")\n",
    "\n",
    "        if episode % 10 == 0:\n",
    "            print(f\"Episode {episode}: Total reward = {total_reward:.2f}\")\n",
    "    return rewards_all"
   ]
  },
  {
   "cell_type": "code",
   "execution_count": 6,
   "id": "70d5d1ff",
   "metadata": {},
   "outputs": [
    {
     "name": "stdout",
     "output_type": "stream",
     "text": [
      " 5 meilleures paires co-intégrées sélectionnées :\n",
      "   Asset1  Asset2   P-value\n",
      "0  IMP.JO  AEG.JO  0.000003\n",
      "1  AMS.JO  MUR.JO  0.005944\n",
      "2  FSR.JO  DSY.JO  0.008962\n",
      "3  AMS.JO  AEG.JO  0.011692\n",
      "4  IMP.JO  MUR.JO  0.019504\n"
     ]
    }
   ],
   "source": [
    "best_5_pairs = (\n",
    "    full_data[['Asset1', 'Asset2', 'P-value']]\n",
    "    .drop_duplicates()\n",
    "    .sort_values(by='P-value')\n",
    "    .head(5)\n",
    "    .reset_index(drop=True)\n",
    ")\n",
    "\n",
    "print(\" 5 meilleures paires co-intégrées sélectionnées :\")\n",
    "print(best_5_pairs)\n"
   ]
  },
  {
   "cell_type": "code",
   "execution_count": 7,
   "id": "7a5044c5",
   "metadata": {},
   "outputs": [
    {
     "name": "stdout",
     "output_type": "stream",
     "text": [
      "\n",
      "==== Training on best pair: IMP.JO-AEG.JO ====\n",
      "Episode 0: Total reward = -12322.49\n",
      "Episode 10: Total reward = -11242.00\n",
      "Episode 20: Total reward = -9010.39\n",
      "Episode 30: Total reward = -6574.63\n",
      "Episode 40: Total reward = -2296.35\n",
      "Episode 50: Total reward = -409.84\n",
      "Episode 60: Total reward = 115.97\n",
      "Episode 70: Total reward = -206.58\n",
      "Episode 80: Total reward = -421.99\n",
      "Episode 90: Total reward = -284.13\n",
      "\n",
      "==== Training on best pair: AMS.JO-MUR.JO ====\n",
      "Episode 0: Total reward = -12249.08\n",
      "Episode 10: Total reward = -10062.91\n",
      "Episode 20: Total reward = -9503.94\n",
      "Episode 30: Total reward = -6929.19\n",
      "Episode 40: Total reward = -2875.23\n",
      "Episode 50: Total reward = -755.75\n",
      "Episode 60: Total reward = -369.03\n",
      "Episode 70: Total reward = -302.29\n",
      "Episode 80: Total reward = -423.22\n",
      "Episode 90: Total reward = -276.86\n",
      "\n",
      "==== Training on best pair: FSR.JO-DSY.JO ====\n",
      "Episode 0: Total reward = -11982.19\n",
      "Episode 10: Total reward = -9732.06\n",
      "Episode 20: Total reward = -7886.47\n",
      "Episode 30: Total reward = -6790.21\n",
      "Episode 40: Total reward = -2758.05\n",
      "Episode 50: Total reward = -235.42\n",
      "Episode 60: Total reward = -104.05\n",
      "Episode 70: Total reward = -434.83\n",
      "Episode 80: Total reward = -293.16\n",
      "Episode 90: Total reward = -739.10\n",
      "\n",
      "==== Training on best pair: AMS.JO-AEG.JO ====\n",
      "Episode 0: Total reward = -12287.70\n",
      "Episode 10: Total reward = -10702.22\n",
      "Episode 20: Total reward = -9899.16\n",
      "Episode 30: Total reward = -6700.95\n",
      "Episode 40: Total reward = -2928.02\n",
      "Episode 50: Total reward = -474.52\n",
      "Episode 60: Total reward = -345.57\n",
      "Episode 70: Total reward = -560.04\n",
      "Episode 80: Total reward = -408.62\n",
      "Episode 90: Total reward = -582.29\n",
      "\n",
      "==== Training on best pair: IMP.JO-MUR.JO ====\n",
      "Episode 0: Total reward = -12761.86\n",
      "Episode 10: Total reward = -10344.47\n",
      "Episode 20: Total reward = -8538.83\n",
      "Episode 30: Total reward = -5788.94\n",
      "Episode 40: Total reward = -2640.29\n",
      "Episode 50: Total reward = -438.18\n",
      "Episode 60: Total reward = -467.20\n",
      "Episode 70: Total reward = -413.42\n",
      "Episode 80: Total reward = -490.40\n",
      "Episode 90: Total reward = -478.93\n",
      "\n",
      " Résultats enregistrés dans rewards_by_pair.json\n"
     ]
    }
   ],
   "source": [
    "for _, row in best_5_pairs.iterrows():\n",
    "    pair_id = f\"{row['Asset1']}-{row['Asset2']}\"\n",
    "    df_pair = full_data[(full_data['Asset1'] == row['Asset1']) & (full_data['Asset2'] == row['Asset2'])].copy()\n",
    "    try:\n",
    "        print(f\"\\n==== Training on best pair: {pair_id} ====\")\n",
    "        rewards = train_on_pair(df_pair, pair_id, num_episodes=100)\n",
    "        rewards_by_pair[pair_id] = rewards\n",
    "    except Exception as e:\n",
    "        print(f\" Skipping pair {pair_id} due to error: {e}\")\n",
    "\n",
    "# Sauvegarder les résultats dans un fichier JSON\n",
    "with open(\"rewards_by_pair.json\", \"w\") as f:\n",
    "    json.dump(rewards_by_pair, f, indent=2)\n",
    "print(\"\\n Résultats enregistrés dans rewards_by_pair.json\")\n"
   ]
  },
  {
   "cell_type": "code",
   "execution_count": 8,
   "id": "4324c350",
   "metadata": {},
   "outputs": [
    {
     "name": "stdout",
     "output_type": "stream",
     "text": [
      " Résultats chargés pour 5 paires:\n",
      "  - IMP.JO-AEG.JO\n",
      "  - AMS.JO-MUR.JO\n",
      "  - FSR.JO-DSY.JO\n",
      "  - AMS.JO-AEG.JO\n",
      "  - IMP.JO-MUR.JO\n"
     ]
    }
   ],
   "source": [
    "with open(\"rewards_by_pair.json\", \"r\") as f:\n",
    "    rewards_by_pair = json.load(f)\n",
    "\n",
    "print(f\" Résultats chargés pour {len(rewards_by_pair)} paires:\")\n",
    "for pair_id in rewards_by_pair.keys():\n",
    "    print(f\"  - {pair_id}\")\n"
   ]
  }
 ],
 "metadata": {
  "kernelspec": {
   "display_name": "env",
   "language": "python",
   "name": "python3"
  },
  "language_info": {
   "codemirror_mode": {
    "name": "ipython",
    "version": 3
   },
   "file_extension": ".py",
   "mimetype": "text/x-python",
   "name": "python",
   "nbconvert_exporter": "python",
   "pygments_lexer": "ipython3",
   "version": "3.11.9"
  }
 },
 "nbformat": 4,
 "nbformat_minor": 5
}
