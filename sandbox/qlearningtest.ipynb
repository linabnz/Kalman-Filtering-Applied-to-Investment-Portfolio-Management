{
 "cells": [
  {
   "cell_type": "code",
   "execution_count": 15,
   "id": "bd309230",
   "metadata": {},
   "outputs": [],
   "source": [
    "import pandas as pd\n",
    "import numpy as np\n",
    "import torch\n",
    "from models.agent import DQNAgent\n",
    "from strategies.trading_env import TradingEnvironment\n",
    "import json\n",
    "import os\n"
   ]
  },
  {
   "cell_type": "code",
   "execution_count": 16,
   "id": "9407bf03",
   "metadata": {},
   "outputs": [],
   "source": [
    "ACTIONS = {0: \"Hold\", 1: \"Enter\", 2: \"Exit\"}\n",
    "ACTION_SPACE = list(ACTIONS.keys())\n",
    "\n",
    "# Charger les données complètes et grouper par paire\n",
    "full_data = pd.read_csv(r\"C:\\Users\\lbenzemma\\Desktop\\Projets Master2 MOSEF\\Kalman-Filtering-Applied-to-Investment-Portfolio-Management-1\\data\\cointegrated_pairs_spreads.csv\")\n",
    "\n",
    "# Normaliser les spreads dans le dataset principal\n",
    "full_data['spread'] = full_data.groupby(['Asset1', 'Asset2'])['Spread'].transform(lambda x: (x - x.mean()) / x.std())\n",
    "\n",
    "rewards_by_pair = {}\n",
    "output_dir = \"saved_models\"\n",
    "os.makedirs(output_dir, exist_ok=True)\n"
   ]
  },
  {
   "cell_type": "code",
   "execution_count": 17,
   "id": "1dd92d73",
   "metadata": {},
   "outputs": [],
   "source": [
    "def train_on_pair(df_pair, pair_id, num_episodes=100):\n",
    "    env = TradingEnvironment(df_pair)\n",
    "    agent = DQNAgent(input_dim=3, output_dim=3)\n",
    "\n",
    "    rewards_all = []\n",
    "    best_reward = -np.inf\n",
    "    for episode in range(num_episodes):\n",
    "        state = env.reset()\n",
    "        total_reward = 0\n",
    "        done = False\n",
    "        epsilon = max(0.1, 1.0 - episode / 50)\n",
    "\n",
    "        while not done:\n",
    "            action = agent.get_action(state, epsilon)\n",
    "            next_state, reward, done = env.step(action)\n",
    "            agent.train_step(state, action, reward, next_state, done)\n",
    "            state = next_state\n",
    "            total_reward += reward\n",
    "\n",
    "        rewards_all.append(total_reward)\n",
    "        if total_reward > best_reward:\n",
    "            best_reward = total_reward\n",
    "            agent.save(f\"{output_dir}/{pair_id}.pt\")\n",
    "\n",
    "        if episode % 10 == 0:\n",
    "            print(f\"Episode {episode}: Total reward = {total_reward:.2f}\")\n",
    "    return rewards_all"
   ]
  },
  {
   "cell_type": "code",
   "execution_count": 18,
   "id": "70d5d1ff",
   "metadata": {},
   "outputs": [
    {
     "name": "stdout",
     "output_type": "stream",
     "text": [
      " 5 meilleures paires co-intégrées sélectionnées :\n",
      "   Asset1  Asset2   P-value\n",
      "0  IMP.JO  AEG.JO  0.000003\n",
      "1  AMS.JO  MUR.JO  0.005944\n",
      "2  FSR.JO  DSY.JO  0.008962\n",
      "3  AMS.JO  AEG.JO  0.011692\n",
      "4  IMP.JO  MUR.JO  0.019504\n"
     ]
    }
   ],
   "source": [
    "best_5_pairs = (\n",
    "    full_data[['Asset1', 'Asset2', 'P-value']]\n",
    "    .drop_duplicates()\n",
    "    .sort_values(by='P-value')\n",
    "    .head(5)\n",
    "    .reset_index(drop=True)\n",
    ")\n",
    "\n",
    "print(\" 5 meilleures paires co-intégrées sélectionnées :\")\n",
    "print(best_5_pairs)\n"
   ]
  },
  {
   "cell_type": "code",
   "execution_count": null,
   "id": "7a5044c5",
   "metadata": {},
   "outputs": [],
   "source": [
    "for _, row in best_5_pairs.iterrows():\n",
    "    pair_id = f\"{row['Asset1']}-{row['Asset2']}\"\n",
    "    df_pair = full_data[(full_data['Asset1'] == row['Asset1']) & (full_data['Asset2'] == row['Asset2'])].copy()\n",
    "    try:\n",
    "        print(f\"\\n==== Training on best pair: {pair_id} ====\")\n",
    "        rewards = train_on_pair(df_pair, pair_id, num_episodes=100)\n",
    "        rewards_by_pair[pair_id] = rewards\n",
    "    except Exception as e:\n",
    "        print(f\" Skipping pair {pair_id} due to error: {e}\")\n",
    "\n",
    "# Sauvegarder les résultats dans un fichier JSON\n",
    "with open(\"rewards_by_pair.json\", \"w\") as f:\n",
    "    json.dump(rewards_by_pair, f, indent=2)\n",
    "print(\"\\n Résultats enregistrés dans rewards_by_pair.json\")\n"
   ]
  }
 ],
 "metadata": {
  "kernelspec": {
   "display_name": "env",
   "language": "python",
   "name": "python3"
  },
  "language_info": {
   "codemirror_mode": {
    "name": "ipython",
    "version": 3
   },
   "file_extension": ".py",
   "mimetype": "text/x-python",
   "name": "python",
   "nbconvert_exporter": "python",
   "pygments_lexer": "ipython3",
   "version": "3.11.9"
  }
 },
 "nbformat": 4,
 "nbformat_minor": 5
}
